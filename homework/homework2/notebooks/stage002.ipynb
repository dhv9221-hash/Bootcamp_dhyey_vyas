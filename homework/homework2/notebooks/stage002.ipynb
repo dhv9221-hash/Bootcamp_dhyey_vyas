{
 "cells": [
  {
   "cell_type": "markdown",
   "id": "f3a25db9",
   "metadata": {},
   "source": [
    "# Environment Check and Config Check"
   ]
  },
  {
   "cell_type": "markdown",
   "id": "a9095826",
   "metadata": {},
   "source": [
    "### Import Files"
   ]
  },
  {
   "cell_type": "code",
   "execution_count": 20,
   "id": "a8fa2360",
   "metadata": {},
   "outputs": [],
   "source": [
    "import os\n",
    "import sys\n",
    "from pathlib import Path \n",
    "import numpy as np\n",
    "import pandas as pd\n",
    "import os\n"
   ]
  },
  {
   "cell_type": "markdown",
   "id": "b8b637b1",
   "metadata": {},
   "source": [
    "### Loading env"
   ]
  },
  {
   "cell_type": "code",
   "execution_count": 8,
   "id": "a433b426",
   "metadata": {},
   "outputs": [
    {
     "name": "stdout",
     "output_type": "stream",
     "text": [
      "Python version: 3.11.13 (main, Jun  5 2025, 08:21:08) [Clang 14.0.6 ]\n",
      "Interpreter path: /Users/dhyeyvyas/miniconda3/envs/fe-course/bin/python\n"
     ]
    }
   ],
   "source": [
    "print(\"Python version:\", sys.version)\n",
    "print(\"Interpreter path:\", sys.executable)"
   ]
  },
  {
   "cell_type": "code",
   "execution_count": 18,
   "id": "5dda3908",
   "metadata": {},
   "outputs": [
    {
     "name": "stdout",
     "output_type": "stream",
     "text": [
      "API_KEY: dummy_key_123\n",
      "DATA_DIR: ./data\n",
      ".env has loaded\n"
     ]
    }
   ],
   "source": [
    "con_path = Path.cwd().parent / \"src\"\n",
    "sys.path.append(str(con_path))\n",
    "from config import *\n",
    "env_path = Path.cwd().parent / \".env\"\n",
    "sys.path.append(str(env_path))\n",
    "try:\n",
    "    load_env(env_path)  \n",
    "\n",
    "except Exception as e :\n",
    "    print(f\"{e} is the problem\")"
   ]
  },
  {
   "cell_type": "markdown",
   "id": "3377bfe1",
   "metadata": {},
   "source": [
    "### Checking keys"
   ]
  },
  {
   "cell_type": "code",
   "execution_count": 19,
   "id": "6ce55a94",
   "metadata": {},
   "outputs": [
    {
     "name": "stdout",
     "output_type": "stream",
     "text": [
      "API_KEY: dummy_key_123\n",
      "DATA_DIR: ./data\n",
      ".env has loaded\n"
     ]
    }
   ],
   "source": [
    "try:\n",
    "    api_key = get_key(\"API_KEY\")\n",
    "    print(\"API_KEY:\", api_key)\n",
    "    \n",
    "    data_path = get_key(\"DATA_DIR\")\n",
    "    print(\"DATA_DIR:\", data_path)\n",
    "    print(\".env has loaded\")\n",
    "except Exception as e:\n",
    "    print(f\"{e} is the error\")"
   ]
  },
  {
   "cell_type": "markdown",
   "id": "92cacccd",
   "metadata": {},
   "source": [
    "### Basic Numpy ops"
   ]
  },
  {
   "cell_type": "code",
   "execution_count": 21,
   "id": "17a2806f",
   "metadata": {},
   "outputs": [
    {
     "name": "stdout",
     "output_type": "stream",
     "text": [
      "array:  [ 1  2  3  4  5  6  7  8  9 10]\n",
      "array mean:  5.5\n",
      "vectorized array:  [ 10  20  30  40  50  60  70  80  90 100]\n"
     ]
    }
   ],
   "source": [
    "dummy_list=[1,2,3,4,5,6,7,8,9,10]\n",
    "arr=np.array(dummy_list)\n",
    "print(\"array: \",arr)\n",
    "print(\"array mean: \",arr.mean())\n",
    "print(\"vectorized array: \", arr * 10)"
   ]
  },
  {
   "cell_type": "code",
   "execution_count": null,
   "id": "ae0c1d80",
   "metadata": {},
   "outputs": [],
   "source": []
  }
 ],
 "metadata": {
  "kernelspec": {
   "display_name": "fe-course",
   "language": "python",
   "name": "python3"
  },
  "language_info": {
   "codemirror_mode": {
    "name": "ipython",
    "version": 3
   },
   "file_extension": ".py",
   "mimetype": "text/x-python",
   "name": "python",
   "nbconvert_exporter": "python",
   "pygments_lexer": "ipython3",
   "version": "3.11.13"
  }
 },
 "nbformat": 4,
 "nbformat_minor": 5
}
