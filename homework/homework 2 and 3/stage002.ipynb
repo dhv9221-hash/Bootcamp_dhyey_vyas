{
 "cells": [
  {
   "cell_type": "markdown",
   "id": "f3a25db9",
   "metadata": {},
   "source": []
  }
 ],
 "metadata": {
  "language_info": {
   "name": "python"
  }
 },
 "nbformat": 4,
 "nbformat_minor": 5
}
