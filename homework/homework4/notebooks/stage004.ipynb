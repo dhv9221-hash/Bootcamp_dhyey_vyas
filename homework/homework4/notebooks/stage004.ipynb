{
 "cells": [
  {
   "cell_type": "markdown",
   "id": "73be460d",
   "metadata": {},
   "source": [
    "# Stage 4"
   ]
  },
  {
   "cell_type": "markdown",
   "id": "2809c0f7",
   "metadata": {},
   "source": [
    "### importing libraries"
   ]
  },
  {
   "cell_type": "code",
   "execution_count": 5,
   "id": "7f02d4bd",
   "metadata": {},
   "outputs": [],
   "source": [
    "import os, pathlib, datetime as dt\n",
    "import requests\n",
    "import pandas as pd\n",
    "from bs4 import BeautifulSoup\n",
    "from dotenv import load_dotenv\n",
    "from pathlib import Path \n"
   ]
  },
  {
   "cell_type": "markdown",
   "id": "05769caf",
   "metadata": {},
   "source": [
    "### API PULL"
   ]
  },
  {
   "cell_type": "code",
   "execution_count": 9,
   "id": "5ad44d31",
   "metadata": {},
   "outputs": [
    {
     "name": "stdout",
     "output_type": "stream",
     "text": [
      "ALPHAVANTAGE_API_KEY loaded? True\n"
     ]
    }
   ],
   "source": [
    "load_dotenv()\n",
    "print('ALPHAVANTAGE_API_KEY loaded?', bool(os.getenv('API_KEY')))"
   ]
  },
  {
   "cell_type": "code",
   "execution_count": 10,
   "id": "3440a086",
   "metadata": {},
   "outputs": [],
   "source": [
    "def ts():\n",
    "    return dt.datetime.now().strftime('%Y%m%d-%H%M%S')\n",
    "\n",
    "def save_csv(df: pd.DataFrame, prefix: str, **meta):\n",
    "    mid = '_'.join([f\"{k}-{v}\" for k,v in meta.items()])\n",
    "    path = RAW / f\"{prefix}_{mid}_{ts()}.csv\"\n",
    "    df.to_csv(path, index=False)\n",
    "    print('Saved', path)\n",
    "    return path\n",
    "\n",
    "def validate(df: pd.DataFrame, required):\n",
    "    missing = [c for c in required if c not in df.columns]\n",
    "    return {'missing': missing, 'shape': df.shape, 'na_total': int(df.isna().sum().sum())}"
   ]
  },
  {
   "cell_type": "code",
   "execution_count": 11,
   "id": "80364af0",
   "metadata": {},
   "outputs": [],
   "source": [
    "RAW = pathlib.Path('data/raw')\n",
    "RAW.mkdir(parents=True, exist_ok=True)"
   ]
  },
  {
   "cell_type": "code",
   "execution_count": null,
   "id": "ae0714a9",
   "metadata": {},
   "outputs": [
    {
     "data": {
      "text/plain": [
       "{'missing': [], 'shape': (100, 3), 'na_total': 0}"
      ]
     },
     "execution_count": 20,
     "metadata": {},
     "output_type": "execute_result"
    }
   ],
   "source": [
    "SYMBOL = 'AAPL'\n",
    "USE_ALPHA = bool(os.getenv('API_KEY'))\n",
    "if USE_ALPHA:\n",
    "    url = 'https://www.alphavantage.co/query'\n",
    "    params = {'function':'TIME_SERIES_DAILY','symbol':SYMBOL,'outputsize':'compact','apikey':os.getenv('API_KEY')}\n",
    "    r = requests.get(url, params=params, timeout=30)\n",
    "    r.raise_for_status()\n",
    "    js = r.json()\n",
    "    key = [k for k in js if 'Time Series (Daily)' in k][0]\n",
    "    df_api = pd.DataFrame(js[key]).T.reset_index().rename(columns={'index':'date','4. close':'close'})[['date','adj_close']]\n",
    "    df_api['date'] = pd.to_datetime(df_api['date']); df_api['adj_close'] = pd.to_numeric(df_api['adj_close'])\n",
    "else:\n",
    "    import yfinance as yf\n",
    "    df_api = yf.download(SYMBOL, period='3mo', interval='1d').reset_index()[['Date','Adj Close']]\n",
    "    df_api.columns = ['date','adj_close']\n",
    "\n",
    "v_api = validate(df_api, ['date','adj_close']); v_api"
   ]
  },
  {
   "cell_type": "code",
   "execution_count": 23,
   "id": "35a61dce",
   "metadata": {},
   "outputs": [
    {
     "name": "stdout",
     "output_type": "stream",
     "text": [
      "Saved data/raw/api_source-alpha_symbol-AAPL_20250818-211637.csv\n"
     ]
    }
   ],
   "source": [
    "_ = save_csv(df_api.sort_values('date'), prefix='api', source='alpha' if USE_ALPHA else 'yfinance', symbol=SYMBOL)\n"
   ]
  },
  {
   "cell_type": "markdown",
   "id": "646b0b3e",
   "metadata": {},
   "source": [
    "### Scraping"
   ]
  },
  {
   "cell_type": "code",
   "execution_count": 26,
   "id": "b82990f1",
   "metadata": {},
   "outputs": [
    {
     "data": {
      "text/plain": [
       "{'missing': [], 'shape': (25, 12), 'na_total': 25}"
      ]
     },
     "execution_count": 26,
     "metadata": {},
     "output_type": "execute_result"
    }
   ],
   "source": [
    "SCRAPE_URL = 'https://finance.yahoo.com/markets/stocks/losers/' \n",
    "headers = {'User-Agent':'AFE-Homework/1.0'}\n",
    "try:\n",
    "    resp = requests.get(SCRAPE_URL, headers=headers, timeout=30); resp.raise_for_status()\n",
    "    soup = BeautifulSoup(resp.text, 'html.parser')\n",
    "    rows = [[c.get_text(strip=True) for c in tr.find_all(['th','td'])] for tr in soup.find_all('tr')]\n",
    "    header, *data = [r for r in rows if r]\n",
    "    df_scrape = pd.DataFrame(data, columns=header)\n",
    "except Exception as e:\n",
    "    print('Scrape failed, using inline demo table:', e)\n",
    "    html = '<table><tr><th>Ticker</th><th>Price</th></tr><tr><td>AAA</td><td>101.2</td></tr></table>'\n",
    "    soup = BeautifulSoup(html, 'html.parser')\n",
    "    rows = [[c.get_text(strip=True) for c in tr.find_all(['th','td'])] for tr in soup.find_all('tr')]\n",
    "    header, *data = [r for r in rows if r]\n",
    "    df_scrape = pd.DataFrame(data, columns=header)\n",
    "\n",
    "if 'Price' in df_scrape.columns:\n",
    "    df_scrape['Price'] = pd.to_numeric(df_scrape['Price'], errors='coerce')\n",
    "v_scrape = validate(df_scrape, list(df_scrape.columns)); v_scrape"
   ]
  },
  {
   "cell_type": "code",
   "execution_count": 27,
   "id": "4f9dbb10",
   "metadata": {},
   "outputs": [
    {
     "name": "stdout",
     "output_type": "stream",
     "text": [
      "Saved data/raw/scrape_site-example_table-markets_20250818-223850.csv\n"
     ]
    }
   ],
   "source": [
    "_ = save_csv(df_scrape, prefix='scrape', site='example', table='markets')"
   ]
  },
  {
   "cell_type": "code",
   "execution_count": null,
   "id": "61b78c35",
   "metadata": {},
   "outputs": [],
   "source": []
  }
 ],
 "metadata": {
  "kernelspec": {
   "display_name": "fe-course",
   "language": "python",
   "name": "python3"
  },
  "language_info": {
   "codemirror_mode": {
    "name": "ipython",
    "version": 3
   },
   "file_extension": ".py",
   "mimetype": "text/x-python",
   "name": "python",
   "nbconvert_exporter": "python",
   "pygments_lexer": "ipython3",
   "version": "3.11.13"
  }
 },
 "nbformat": 4,
 "nbformat_minor": 5
}
